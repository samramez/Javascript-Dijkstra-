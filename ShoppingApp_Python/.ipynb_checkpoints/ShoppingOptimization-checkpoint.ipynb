{
 "cells": [
  {
   "cell_type": "markdown",
   "metadata": {},
   "source": [
    "## MAP"
   ]
  },
  {
   "cell_type": "markdown",
   "metadata": {},
   "source": [
    "![title](img/store_map.png)"
   ]
  },
  {
   "cell_type": "markdown",
   "metadata": {},
   "source": [
    "## Graph implementation"
   ]
  },
  {
   "cell_type": "code",
   "execution_count": 20,
   "metadata": {},
   "outputs": [],
   "source": [
    "def Dijkstra(roads, source, dest):\n",
    "    inf = float('inf')\n",
    "    distance = {}\n",
    "    done = {}\n",
    "    pred = {}\n",
    "    \n",
    "    for i in roads:\n",
    "        distance[i] = inf\n",
    "        pred[i] = 0\n",
    "        done[i] = False\n",
    "  \n",
    "    distance[source] = 0\n",
    "     \n",
    "    for i in roads:\n",
    "        minDist = inf\n",
    "        closest = None\n",
    "        for j in roads:\n",
    "            if (not done[j]):\n",
    "                if (distance[j] <= minDist):\n",
    "                    minDist = distance[j]\n",
    "                    closest = j\n",
    "\n",
    "        done[closest] = True\n",
    "        if (closest == dest):\n",
    "            break;\n",
    "\n",
    "        neighbors = roadsFrom(closest)\n",
    "        for nb in neighbors:\n",
    "            w = neighbors[nb]\n",
    "            if (not done[nb]):\n",
    "                if (distance[closest] + w < distance[nb]):\n",
    "                    distance[nb] = distance[closest] + w\n",
    "                    pred[nb] = closest\n",
    "   \n",
    "    i = dest\n",
    "    if (distance[i] < inf):\n",
    "        thePath = i\n",
    "        place = i\n",
    "        while (place != source):\n",
    "            place = pred[place]\n",
    "            if (place != source):\n",
    "                thePath = place + '->' + thePath\n",
    "    \n",
    "        thePath = place + '->' + str(thePath)\n",
    "        print(\"Distance from \" + str(source) + \"-->\" + str(dest) + \" : \" + str(distance[i]) + ' (' + str(thePath) + ')')\n",
    "        return distance[i]\n",
    "  \n",
    "    else:\n",
    "        print(\"no path\")\n",
    "\n",
    "\n",
    "## Graph implementation\n",
    "roads = {}\n",
    "def makeRoad(fromx, to, length):\n",
    "    def addRoad(fromx, to):\n",
    "        if (fromx not in roads):\n",
    "            roads[fromx] = {}\n",
    "        roads[fromx][to] = length\n",
    "        \n",
    "    addRoad(fromx, to)\n",
    "    addRoad(to, fromx)\n",
    "        \n",
    "def roadsFrom(place):\n",
    "    found = roads[place]\n",
    "    if (found == None):\n",
    "        print(\"No place named '\" + place + \"' found.\")\n",
    "    else:\n",
    "        return found"
   ]
  },
  {
   "cell_type": "markdown",
   "metadata": {},
   "source": [
    "## Runner code"
   ]
  },
  {
   "cell_type": "code",
   "execution_count": 27,
   "metadata": {},
   "outputs": [
    {
     "name": "stdout",
     "output_type": "stream",
     "text": [
      "User wants to buy the following items:\n",
      "['meat', 'nuts', 'juice']\n",
      "Distance from start-->meat : 3 (start->eggs->meat)\n",
      "Distance from start-->meat : 3 (start->eggs->meat)\n",
      "Distance from start-->nuts : 2 (start->end->nuts)\n",
      "Distance from start-->nuts : 2 (start->end->nuts)\n",
      "Distance from start-->juice : 4 (start->end->nuts->juice)\n",
      "['meat', 'juice']\n",
      "Distance from nuts-->meat : 3 (nuts->eggs->meat)\n",
      "Distance from nuts-->meat : 3 (nuts->eggs->meat)\n",
      "Distance from nuts-->juice : 2 (nuts->juice)\n",
      "Distance from nuts-->juice : 2 (nuts->juice)\n",
      "['meat']\n",
      "Distance from juice-->meat : 2 (juice->meat)\n",
      "Distance from juice-->meat : 2 (juice->meat)\n",
      "[]\n",
      "start --> nuts --> juice --> meat\n"
     ]
    }
   ],
   "source": [
    "makeRoad(\"start\", \"apple\", 2)\n",
    "makeRoad(\"start\", \"eggs\", 2)\n",
    "makeRoad(\"start\", \"nuts\", 3)\n",
    "makeRoad(\"start\", \"end\", 1)\n",
    "makeRoad(\"apple\", \"meat\", 1)\n",
    "makeRoad(\"meat\", \"eggs\", 1)\n",
    "makeRoad(\"meat\", \"juice\", 2)\n",
    "makeRoad(\"eggs\", \"juice\", 2)\n",
    "makeRoad(\"eggs\", \"nuts\", 2)\n",
    "makeRoad(\"eggs\", \"end\", 1)\n",
    "makeRoad(\"juice\", \"nuts\", 2)\n",
    "makeRoad(\"nuts\", \"end\", 1)\n",
    "\n",
    "\n",
    "print(\"User wants to buy the following items:\")\n",
    "\n",
    "items = [\"meat\",\"eggs\",\"juice\"]\n",
    "order = \"start\"\n",
    "startPoint = \"start\"\n",
    "\n",
    "print(items)\n",
    "while (len(items) > 0):\n",
    "\n",
    "    minDist = 100\n",
    "    ClosestItem = None\n",
    "\n",
    "    for item in items:\n",
    "        if(Dijkstra(roads, startPoint, item) < minDist):\n",
    "            minDist = Dijkstra(roads, startPoint, item)\n",
    "            ClosestItem = item\n",
    "    \n",
    "    startPoint = ClosestItem\n",
    "\n",
    "    order = order + \" --> \" + str(startPoint)\n",
    "\n",
    "    index = items.index(ClosestItem)\n",
    "    \n",
    "    if (index > -1):\n",
    "        del items[index]\n",
    "\n",
    "    print(items)\n",
    "\n",
    "print(order)"
   ]
  },
  {
   "cell_type": "code",
   "execution_count": null,
   "metadata": {},
   "outputs": [],
   "source": []
  }
 ],
 "metadata": {
  "kernelspec": {
   "display_name": "Python 3",
   "language": "python",
   "name": "python3"
  },
  "language_info": {
   "codemirror_mode": {
    "name": "ipython",
    "version": 3
   },
   "file_extension": ".py",
   "mimetype": "text/x-python",
   "name": "python",
   "nbconvert_exporter": "python",
   "pygments_lexer": "ipython3",
   "version": "3.7.6"
  }
 },
 "nbformat": 4,
 "nbformat_minor": 4
}
